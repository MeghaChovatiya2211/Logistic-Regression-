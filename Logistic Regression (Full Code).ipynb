{
 "cells": [
  {
   "cell_type": "code",
   "execution_count": 40,
   "metadata": {},
   "outputs": [
    {
     "data": {
      "image/png": "[encoded data removed]",
      "text/plain": [
       "<Figure size 432x288 with 1 Axes>"
      ]
     },
     "metadata": {},
     "output_type": "display_data"
    }
   ],
   "source": [
    "from sklearn import datasets\n",
    "import matplotlib.pyplot as plt\n",
    "import matplotlib.animation\n",
    "import seaborn as sns\n",
    "%matplotlib inline\n",
    "sns.set(style = 'ticks' , palette = 'Set2')\n",
    "import pandas as pd\n",
    "import numpy as np\n",
    "import math\n",
    "from __future__ import division\n",
    "\n",
    "data = datasets.load_iris()\n",
    "X = data.data[:100,:2]\n",
    "y = data.target[:100]\n",
    "X_full= data.data[:100,:]\n",
    "\n",
    "setosa = plt.scatter(X[:50,0], X[:50,1],c='b')\n",
    "versicolor = plt.scatter(X[50:,0], X[50:,1],c='r')\n",
    "plt.legend((setosa,versicolor) , (\"Setosa\",\"Versicolor\"))\n",
    "plt.xlabel(\"Sepal Length\")\n",
    "plt.ylabel(\"Sepal Width\")\n",
    "sns.despine()"
   ]
  },
  {
   "cell_type": "raw",
   "metadata": {},
   "source": [
    "# Logisitic Function\n",
    "So we want to return a value between 0 and 1 to make sure we are actually representing a probability. To do this we will make use of the logistic function. The logistic function mathematically looks like this:\n",
    "y=1/1+e^(-x)\n",
    "Let's take a look at the plot:"
   ]
  },
  {
   "cell_type": "code",
   "execution_count": 41,
   "metadata": {},
   "outputs": [
    {
     "data": {
      "image/png": "[encoded data removed]",
      "text/plain": [
       "<Figure size 432x288 with 1 Axes>"
      ]
     },
     "metadata": {},
     "output_type": "display_data"
    }
   ],
   "source": [
    "x_val = np.linspace(-5,5,100)\n",
    "y_val = [1/(1+math.e**(-x)) for x in x_val]\n",
    "plt.plot(x_val,y_val)\n",
    "plt.axhline(0.5)\n",
    "plt.axvline(0)\n",
    "sns.despine()"
   ]
  },
  {
   "cell_type": "code",
   "execution_count": 65,
   "metadata": {},
   "outputs": [],
   "source": [
    "def logistic_func(b,x):\n",
    "    return float(1)/(1+math.e**(-x.dot(b))) #f(x)\n",
    "\n",
    "def log_gradient(b,x,y):\n",
    "    first_calc = logistic_func(b,x) - np.squeeze(y) #-[yi - fxi] Squeeze se [[1]] --> [1] ye hota hai\n",
    "    final_calc = first_calc.T.dot(x) #(yi-fxi)*xi\n",
    "    return final_calc\n",
    "\n",
    "def cost_func(b,x,y): #l(b)\n",
    "    log_func_v = logistic_func(b,x)\n",
    "    stp1 = y*np.log(log_func_v) #yi*log(fxi)\n",
    "    stp2 = (1-y)*np.log(1-log_func_v) #(1-y)*(1-log(fxi))\n",
    "    final = -stp1 - stp2\n",
    "    return np.mean(final)\n",
    "\n",
    "def grad_desc(b_vals, X, y, lr = 0.001, converge_change = 0.001):\n",
    "    #normalize\n",
    "    #X = (X - np.mean(X, axis=0)) / np.std(X, axis=0)\n",
    "    #setup cost iter\n",
    "    cost_iter = []\n",
    "    b_list = []\n",
    "    cost = cost_func(b_vals,X,y)\n",
    "    cost_iter.append([0,cost])\n",
    "    change_cost = converge_change+1\n",
    "    i = 1\n",
    "    while(change_cost>converge_change):\n",
    "        old_cost = cost\n",
    "        b_list.append(b_vals)\n",
    "        b_vals = b_vals - (lr*log_gradient(b_vals,X,y))\n",
    "        cost = cost_func(b_vals,X,y)\n",
    "        cost_iter.append([i,cost])\n",
    "        change_cost = old_cost-cost\n",
    "        i+=1\n",
    "    return b_vals, np.array(cost_iter), b_list\n",
    "\n",
    "def pred_values(b,X,hard =True):\n",
    "    pred_prob = logistic_func(b,X)\n",
    "    pred_value = np.where(pred_prob>=0.5,1,0)\n",
    "    if(hard):\n",
    "        return pred_value\n",
    "    return pred_prob"
   ]
  },
  {
   "cell_type": "code",
   "execution_count": 66,
   "metadata": {},
   "outputs": [
    {
     "name": "stdout",
     "output_type": "stream",
     "text": [
      "[-1.18974362  2.08100246]\n"
     ]
    }
   ],
   "source": [
    "shape = X.shape[1]\n",
    "y_flip = np.logical_not(y)\n",
    "betas = np.zeros(shape)\n",
    "fitted_vals, cost_iter, b_list = grad_desc(betas, X, y_flip, lr = 0.001, converge_change = 0.001)\n",
    "print(fitted_vals)"
   ]
  },
  {
   "cell_type": "code",
   "execution_count": 67,
   "metadata": {
    "scrolled": false
   },
   "outputs": [
    {
     "data": {
      "text/plain": [
       "array([[  0.        ,   0.69314718],\n",
       "       [  1.        ,   0.68590007],\n",
       "       [  2.        ,   0.67952028],\n",
       "       [  3.        ,   0.67324189],\n",
       "       [  4.        ,   0.66706323],\n",
       "       [  5.        ,   0.66098267],\n",
       "       [  6.        ,   0.65499858],\n",
       "       [  7.        ,   0.64910933],\n",
       "       [  8.        ,   0.64331334],\n",
       "       [  9.        ,   0.63760902],\n",
       "       [ 10.        ,   0.63199479],\n",
       "       [ 11.        ,   0.6264691 ],\n",
       "       [ 12.        ,   0.62103042],\n",
       "       [ 13.        ,   0.61567722],\n",
       "       [ 14.        ,   0.61040801],\n",
       "       [ 15.        ,   0.6052213 ],\n",
       "       [ 16.        ,   0.60011563],\n",
       "       [ 17.        ,   0.59508955],\n",
       "       [ 18.        ,   0.59014163],\n",
       "       [ 19.        ,   0.58527048],\n",
       "       [ 20.        ,   0.5804747 ],\n",
       "       [ 21.        ,   0.57575293],\n",
       "       [ 22.        ,   0.57110383],\n",
       "       [ 23.        ,   0.56652607],\n",
       "       [ 24.        ,   0.56201834],\n",
       "       [ 25.        ,   0.55757937],\n",
       "       [ 26.        ,   0.5532079 ],\n",
       "       [ 27.        ,   0.54890268],\n",
       "       [ 28.        ,   0.54466249],\n",
       "       [ 29.        ,   0.54048614],\n",
       "       [ 30.        ,   0.53637244],\n",
       "       [ 31.        ,   0.53232023],\n",
       "       [ 32.        ,   0.52832839],\n",
       "       [ 33.        ,   0.52439579],\n",
       "       [ 34.        ,   0.52052133],\n",
       "       [ 35.        ,   0.51670395],\n",
       "       [ 36.        ,   0.51294257],\n",
       "       [ 37.        ,   0.50923616],\n",
       "       [ 38.        ,   0.50558371],\n",
       "       [ 39.        ,   0.50198422],\n",
       "       [ 40.        ,   0.4984367 ],\n",
       "       [ 41.        ,   0.4949402 ],\n",
       "       [ 42.        ,   0.49149377],\n",
       "       [ 43.        ,   0.48809649],\n",
       "       [ 44.        ,   0.48474745],\n",
       "       [ 45.        ,   0.48144576],\n",
       "       [ 46.        ,   0.47819055],\n",
       "       [ 47.        ,   0.47498097],\n",
       "       [ 48.        ,   0.47181618],\n",
       "       [ 49.        ,   0.46869537],\n",
       "       [ 50.        ,   0.46561772],\n",
       "       [ 51.        ,   0.46258244],\n",
       "       [ 52.        ,   0.45958878],\n",
       "       [ 53.        ,   0.45663597],\n",
       "       [ 54.        ,   0.45372326],\n",
       "       [ 55.        ,   0.45084994],\n",
       "       [ 56.        ,   0.44801529],\n",
       "       [ 57.        ,   0.44521862],\n",
       "       [ 58.        ,   0.44245924],\n",
       "       [ 59.        ,   0.43973648],\n",
       "       [ 60.        ,   0.43704969],\n",
       "       [ 61.        ,   0.43439824],\n",
       "       [ 62.        ,   0.43178147],\n",
       "       [ 63.        ,   0.4291988 ],\n",
       "       [ 64.        ,   0.4266496 ],\n",
       "       [ 65.        ,   0.42413329],\n",
       "       [ 66.        ,   0.42164929],\n",
       "       [ 67.        ,   0.41919704],\n",
       "       [ 68.        ,   0.41677597],\n",
       "       [ 69.        ,   0.41438555],\n",
       "       [ 70.        ,   0.41202524],\n",
       "       [ 71.        ,   0.40969452],\n",
       "       [ 72.        ,   0.40739288],\n",
       "       [ 73.        ,   0.40511982],\n",
       "       [ 74.        ,   0.40287485],\n",
       "       [ 75.        ,   0.40065748],\n",
       "       [ 76.        ,   0.39846725],\n",
       "       [ 77.        ,   0.3963037 ],\n",
       "       [ 78.        ,   0.39416637],\n",
       "       [ 79.        ,   0.39205482],\n",
       "       [ 80.        ,   0.38996862],\n",
       "       [ 81.        ,   0.38790734],\n",
       "       [ 82.        ,   0.38587057],\n",
       "       [ 83.        ,   0.38385789],\n",
       "       [ 84.        ,   0.38186892],\n",
       "       [ 85.        ,   0.37990325],\n",
       "       [ 86.        ,   0.37796051],\n",
       "       [ 87.        ,   0.37604031],\n",
       "       [ 88.        ,   0.37414229],\n",
       "       [ 89.        ,   0.37226609],\n",
       "       [ 90.        ,   0.37041135],\n",
       "       [ 91.        ,   0.36857773],\n",
       "       [ 92.        ,   0.36676488],\n",
       "       [ 93.        ,   0.36497248],\n",
       "       [ 94.        ,   0.36320019],\n",
       "       [ 95.        ,   0.3614477 ],\n",
       "       [ 96.        ,   0.35971469],\n",
       "       [ 97.        ,   0.35800085],\n",
       "       [ 98.        ,   0.35630589],\n",
       "       [ 99.        ,   0.3546295 ],\n",
       "       [100.        ,   0.35297139],\n",
       "       [101.        ,   0.35133128],\n",
       "       [102.        ,   0.3497089 ],\n",
       "       [103.        ,   0.34810396],\n",
       "       [104.        ,   0.3465162 ],\n",
       "       [105.        ,   0.34494535],\n",
       "       [106.        ,   0.34339116],\n",
       "       [107.        ,   0.34185337],\n",
       "       [108.        ,   0.34033174],\n",
       "       [109.        ,   0.33882602],\n",
       "       [110.        ,   0.33733597],\n",
       "       [111.        ,   0.33586135],\n",
       "       [112.        ,   0.33440194],\n",
       "       [113.        ,   0.33295751],\n",
       "       [114.        ,   0.33152784],\n",
       "       [115.        ,   0.3301127 ],\n",
       "       [116.        ,   0.3287119 ],\n",
       "       [117.        ,   0.32732521],\n",
       "       [118.        ,   0.32595243],\n",
       "       [119.        ,   0.32459336],\n",
       "       [120.        ,   0.3232478 ],\n",
       "       [121.        ,   0.32191555],\n",
       "       [122.        ,   0.32059643],\n",
       "       [123.        ,   0.31929024],\n",
       "       [124.        ,   0.31799681],\n",
       "       [125.        ,   0.31671595],\n",
       "       [126.        ,   0.31544748],\n",
       "       [127.        ,   0.31419123],\n",
       "       [128.        ,   0.31294703],\n",
       "       [129.        ,   0.31171471],\n",
       "       [130.        ,   0.3104941 ],\n",
       "       [131.        ,   0.30928504],\n",
       "       [132.        ,   0.30808737],\n",
       "       [133.        ,   0.30690094],\n",
       "       [134.        ,   0.30572559],\n",
       "       [135.        ,   0.30456117],\n",
       "       [136.        ,   0.30340753],\n",
       "       [137.        ,   0.30226452],\n",
       "       [138.        ,   0.30113201],\n",
       "       [139.        ,   0.30000984],\n",
       "       [140.        ,   0.29889789],\n",
       "       [141.        ,   0.29779601],\n",
       "       [142.        ,   0.29670407],\n",
       "       [143.        ,   0.29562194],\n",
       "       [144.        ,   0.2945495 ],\n",
       "       [145.        ,   0.2934866 ],\n",
       "       [146.        ,   0.29243313],\n",
       "       [147.        ,   0.29138897],\n",
       "       [148.        ,   0.29035399],\n",
       "       [149.        ,   0.28932808],\n",
       "       [150.        ,   0.28831111],\n",
       "       [151.        ,   0.28730298],\n",
       "       [152.        ,   0.28630356]])"
      ]
     },
     "execution_count": 67,
     "metadata": {},
     "output_type": "execute_result"
    }
   ],
   "source": [
    "cost_iter"
   ]
  },
  {
   "cell_type": "code",
   "execution_count": 68,
   "metadata": {},
   "outputs": [
    {
     "data": {
      "text/plain": [
       "array([1, 1, 1, 1, 1, 1, 1, 1, 1, 1, 1, 1, 1, 1, 1, 1, 1, 1, 1, 1, 1, 1,\n",
       "       1, 1, 1, 1, 1, 1, 1, 1, 1, 1, 1, 1, 1, 1, 1, 1, 1, 1, 1, 0, 1, 1,\n",
       "       1, 1, 1, 1, 1, 1, 0, 0, 0, 0, 0, 0, 0, 0, 0, 0, 0, 0, 0, 0, 0, 0,\n",
       "       0, 0, 0, 0, 0, 0, 0, 0, 0, 0, 0, 0, 0, 0, 0, 0, 0, 0, 0, 0, 0, 0,\n",
       "       0, 0, 0, 0, 0, 0, 0, 0, 0, 0, 0, 0])"
      ]
     },
     "execution_count": 68,
     "metadata": {},
     "output_type": "execute_result"
    }
   ],
   "source": [
    "predicted_y = pred_values(fitted_vals, X)\n",
    "predicted_y"
   ]
  },
  {
   "cell_type": "code",
   "execution_count": 69,
   "metadata": {
    "scrolled": true
   },
   "outputs": [
    {
     "data": {
      "text/plain": [
       "99"
      ]
     },
     "execution_count": 69,
     "metadata": {},
     "output_type": "execute_result"
    }
   ],
   "source": [
    "np.sum(y_flip == predicted_y)"
   ]
  },
  {
   "cell_type": "code",
   "execution_count": 73,
   "metadata": {},
   "outputs": [
    {
     "data": {
      "image/png": "[encoded data removed]",
      "text/plain": [
       "<Figure size 432x288 with 1 Axes>"
      ]
     },
     "metadata": {},
     "output_type": "display_data"
    }
   ],
   "source": [
    "plt.plot(cost_iter[:,0], cost_iter[:,1])\n",
    "plt.ylabel(\"Cost\")\n",
    "plt.xlabel(\"Iteration\")\n",
    "sns.despine()"
   ]
  },
  {
   "cell_type": "code",
   "execution_count": 72,
   "metadata": {},
   "outputs": [
    {
     "data": {
      "text/plain": [
       "[<matplotlib.lines.Line2D at 0x207095a6908>]"
      ]
     },
     "execution_count": 72,
     "metadata": {},
     "output_type": "execute_result"
    },
    {
     "data": {
      "image/png": "[encoded data removed]",
      "text/plain": [
       "<Figure size 432x288 with 1 Axes>"
      ]
     },
     "metadata": {},
     "output_type": "display_data"
    }
   ],
   "source": [
    "plt.plot(X.dot(b_list[-1]),logistic_func(b_list[-1],X),color = 'g')"
   ]
  },
  {
   "cell_type": "code",
   "execution_count": 70,
   "metadata": {},
   "outputs": [],
   "source": [
    "def sigmoid_anim(X,y,b_list):\n",
    "    fig = plt.figure()\n",
    "    ax = fig.gca()\n",
    "    t = []\n",
    "    t.append(X)\n",
    "    t = tuple(t)\n",
    "    b = b_list[0]\n",
    "    ax.scatter(X.dot(b_list[-1]),np.zeros(100))\n",
    "    sig, = ax.plot(X.dot(b),logistic_func(b,X),color = 'g')\n",
    "    def update(b):\n",
    "        sig.set_data(X.dot(b),logistic_func(b,X))\n",
    "        return sig\n",
    "\n",
    "    fig.canvas.draw()\n",
    "    ani = matplotlib.animation.FuncAnimation(fig, update, frames=b_list, blit=False, interval=10 )\n",
    "    plt.show()"
   ]
  },
  {
   "cell_type": "code",
   "execution_count": 60,
   "metadata": {},
   "outputs": [
    {
     "data": {
      "image/png": "[encoded data removed]",
      "text/plain": [
       "<Figure size 432x288 with 1 Axes>"
      ]
     },
     "metadata": {},
     "output_type": "display_data"
    }
   ],
   "source": [
    "sigmoid_anim(X,y_flip,b_list)"
   ]
  },
  {
   "cell_type": "code",
   "execution_count": 52,
   "metadata": {
    "scrolled": true
   },
   "outputs": [
    {
     "name": "stdout",
     "output_type": "stream",
     "text": [
      "[-0.061875 -0.065325 -0.057435 -0.05673  -0.05793  -0.06237  -0.05187\n",
      " -0.06117  -0.05532  -0.063705 -0.06561  -0.05652  -0.063    -0.051375\n",
      " -0.07005  -0.061245 -0.06237  -0.061875 -0.070965 -0.057015 -0.07047\n",
      " -0.058635 -0.04863  -0.065115 -0.05652  -0.06765  -0.06117  -0.0642\n",
      " -0.06582  -0.057435 -0.06138  -0.07047  -0.05448  -0.059835 -0.063705\n",
      " -0.06441  -0.071175 -0.063705 -0.0537   -0.063495 -0.05955  -0.067365\n",
      " -0.05046  -0.05955  -0.057015 -0.063    -0.057015 -0.05511  -0.063285\n",
      " -0.06279  -0.11091  -0.09696  -0.110205 -0.090615 -0.105765 -0.087165\n",
      " -0.093015 -0.075045 -0.10647  -0.07716  -0.08385  -0.088575 -0.10386\n",
      " -0.094845 -0.08322  -0.105555 -0.0816   -0.09111  -0.10851  -0.0897\n",
      " -0.085335 -0.096465 -0.105975 -0.096465 -0.10182  -0.10485  -0.11274\n",
      " -0.107175 -0.09252  -0.090405 -0.088995 -0.088995 -0.09111  -0.09576\n",
      " -0.07695  -0.08442  -0.105555 -0.109215 -0.0816   -0.087375 -0.085755\n",
      " -0.093225 -0.09273  -0.07899  -0.08646  -0.083925 -0.085545 -0.09717\n",
      " -0.078075 -0.087165]\n"
     ]
    }
   ],
   "source": [
    "print(X.dot(b_list[1]))"
   ]
  },
  {
   "cell_type": "code",
   "execution_count": 75,
   "metadata": {},
   "outputs": [
    {
     "data": {
      "text/plain": [
       "99"
      ]
     },
     "execution_count": 75,
     "metadata": {},
     "output_type": "execute_result"
    }
   ],
   "source": [
    "from sklearn import linear_model\n",
    "logreg = linear_model.LogisticRegression()\n",
    "logreg.fit(X, y_flip)\n",
    "sum(y_flip == logreg.predict(X))"
   ]
  },
  {
   "cell_type": "code",
   "execution_count": null,
   "metadata": {},
   "outputs": [],
   "source": []
  }
 ],
 "metadata": {
  "kernelspec": {
   "display_name": "Python 3",
   "language": "python",
   "name": "python3"
  },
  "language_info": {
   "codemirror_mode": {
    "name": "ipython",
    "version": 3
   },
   "file_extension": ".py",
   "mimetype": "text/x-python",
   "name": "python",
   "nbconvert_exporter": "python",
   "pygments_lexer": "ipython3",
   "version": "3.5.4"
  }
 },
 "nbformat": 4,
 "nbformat_minor": 2
}
